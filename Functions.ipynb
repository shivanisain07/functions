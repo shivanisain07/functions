{
  "nbformat": 4,
  "nbformat_minor": 0,
  "metadata": {
    "colab": {
      "provenance": []
    },
    "kernelspec": {
      "name": "python3",
      "display_name": "Python 3"
    },
    "language_info": {
      "name": "python"
    }
  },
  "cells": [
    {
      "cell_type": "code",
      "execution_count": null,
      "metadata": {
        "id": "nP1sIAJsKqfT"
      },
      "outputs": [],
      "source": []
    },
    {
      "cell_type": "markdown",
      "source": [
        "1.  What is the difference between a function and a method in Python?\n",
        "\n",
        " - In python, a function can be defined as a block of code that can be called from anywhere whereas a method can be defined as a function that is associated with an object or class.\n",
        "\n",
        "2. Explain the concept of function arguments and parameters in Python.\n",
        "\n",
        " - Parameters are variables defined in a function declaration. This act as placeholders for the values (arguments) that will be passed to the function.\n",
        "\n",
        "Arguments are the actual values that you pass to the function when you call it. These values replace the parameters defined in the function.\n",
        "\n",
        "3. What are the different ways to define and call a function in Python?\n",
        "\n",
        " - In Python, we can define a function using the def keyword, and call it by specifying its name. We can also use the lambda keyword to define an anonymous function.\n",
        "\n",
        "4. What is the purpose of the `return` statement in a Python function?\n",
        "\n",
        " - The return statement in Python ends a function and sends a value or values back to the caller. The return statement is useful when we need to send a value back from a function, such as when performing calculations or returning results.\n",
        "\n",
        "5. What are iterators in Python and how do they differ from iterables?\n",
        "\n",
        " - An Iterable is basically an object that any user can iterate over. An Iterator is also an object that helps a user in iterating over another object (that is iterable). We can generate an iterator when we pass the object to the iter() method.\n",
        "\n",
        "6. Explain the concept of generators in Python and how they are defined.\n",
        "\n",
        " - A generator function is a special type of function that returns an iterator object. Instead of using return to send back a single value, generator functions use yield to produce a series of results over time. This allows the function to generate values and pause its execution after each yield, maintaining its state between iterations.\n",
        "\n",
        "7. What are the advantages of using generators over regular functions?\n",
        "\n",
        " - Generators have more functions than regular functions. They are basically more memory effiecient, flexible and have lazy evaluation. Generator functions can be paused and resumed multiple times.\n",
        "\n",
        "8.  What is a lambda function in Python and when is it typically used?\n",
        "\n",
        " - A lambda function in Python is a small, anonymous function that is defined using the keyword \"lambda\". Lambda functions are often used for short, simple operations like mathematical calculations or data transformations.\n",
        "\n",
        "9.  Explain the purpose and usage of the `map()` function in Python.\n",
        "\n",
        " - The map() function is used to apply a given function to every item of an iterable, such as a list or tuple, and returns a map object .\n",
        "\n",
        "10.  What is the difference between `map()`, `reduce()`, and `filter()` functions in Python?\n",
        "\n",
        " - The map () function returns a map object(which is an iterator) of the results after applying the given function to each item of a given iterable (list, tuple, etc.). The reduce function is used to apply a particular function passed in its argument to all of the list elements mentioned in the sequence passed along.This function is defined in “functools” module. The filter() method filters the given sequence with the help of a function that tests each element in the sequence to be true or not.\n",
        "\n",
        "11. Using pen & Paper write the internal mechanism for sum operation using  reduce function on this given\n",
        "list:[47,11,42,13]\n",
        "\n",
        " - 1. Intial step: reduce() function takes three arguments: 47, 11, 42, 13\n",
        " 2. step to step reduction: x= 47, y = 11\n",
        "   result = add(47, 11) = 58\n",
        "   x= 58, y = 42\n",
        "   result = add(58, 42) = 100\n",
        "   x= 100, y= 13) = 113\n",
        " 3. final result= 100  \n",
        "\n",
        "\n",
        "\n"
      ],
      "metadata": {
        "id": "E2cgzf5qKrRD"
      }
    },
    {
      "cell_type": "code",
      "source": [
        "# 1. Write a Python function that takes a list of numbers as input and returns the sum of all even numbers in the list\n",
        "\n",
        "\n",
        "list1 = [1, 2, 3, 4, 5, 6, 42, 44, 46, 36]\n",
        "sum = 0\n",
        "for num in list1:\n",
        "    if num % 2 == 0:\n",
        "        sum = sum + num\n",
        "print(\"the sum of even numbers is\", sum)\n"
      ],
      "metadata": {
        "colab": {
          "base_uri": "https://localhost:8080/"
        },
        "id": "Wu5sp-wZPiUT",
        "outputId": "0b5931c5-eb42-472f-e710-0248258ebd81"
      },
      "execution_count": 6,
      "outputs": [
        {
          "output_type": "stream",
          "name": "stdout",
          "text": [
            "the sum of even numbers is 180\n"
          ]
        }
      ]
    },
    {
      "cell_type": "code",
      "source": [
        "# 2.  Create a Python function that accepts a string and returns the reverse of that string.\n",
        "strr = str(input(\"enter a string\"))\n",
        "print(strr[::-1])\n",
        "\n"
      ],
      "metadata": {
        "colab": {
          "base_uri": "https://localhost:8080/"
        },
        "id": "LvLj5h12Sd73",
        "outputId": "d3edea84-838c-45fd-8613-b8974d1b1999"
      },
      "execution_count": 11,
      "outputs": [
        {
          "output_type": "stream",
          "name": "stdout",
          "text": [
            "enter a string hello world\n",
            "dlrow olleh \n"
          ]
        }
      ]
    },
    {
      "cell_type": "code",
      "source": [
        "# 3. Implement a Python function that takes a list of integers and returns a new list containing the squares of each number.\n",
        "\n",
        "list1 = [1, 2, 3, 4, 5, 6, 7, 8, 9, 10]\n",
        "list2 = []\n",
        "for num in list1:\n",
        "    list2.append(num**2)\n",
        "    print(\" squares of given list is\", list2)"
      ],
      "metadata": {
        "colab": {
          "base_uri": "https://localhost:8080/"
        },
        "id": "yLGfOLDuxsKI",
        "outputId": "790ec2b5-1c37-4ef5-9252-3a81436f2383"
      },
      "execution_count": 12,
      "outputs": [
        {
          "output_type": "stream",
          "name": "stdout",
          "text": [
            " squares of given list is [1]\n",
            " squares of given list is [1, 4]\n",
            " squares of given list is [1, 4, 9]\n",
            " squares of given list is [1, 4, 9, 16]\n",
            " squares of given list is [1, 4, 9, 16, 25]\n",
            " squares of given list is [1, 4, 9, 16, 25, 36]\n",
            " squares of given list is [1, 4, 9, 16, 25, 36, 49]\n",
            " squares of given list is [1, 4, 9, 16, 25, 36, 49, 64]\n",
            " squares of given list is [1, 4, 9, 16, 25, 36, 49, 64, 81]\n",
            " squares of given list is [1, 4, 9, 16, 25, 36, 49, 64, 81, 100]\n"
          ]
        }
      ]
    },
    {
      "cell_type": "code",
      "source": [
        "# 4.  Write a Python function that checks if a given number is prime or not from 1 to 200.\n",
        "num = int(input(\"enter a number from 1 to 200\"))\n",
        "if num> 1:\n",
        "    for i in range(2, int(num/2)==0):\n",
        "     print(num, \"is a prime number\")\n",
        "    else:\n",
        "        print(num, \"is not a prime number\")"
      ],
      "metadata": {
        "colab": {
          "base_uri": "https://localhost:8080/"
        },
        "id": "i2H0jUvHy89P",
        "outputId": "9b85e233-d552-4b7c-e106-ba888d2547cb"
      },
      "execution_count": 16,
      "outputs": [
        {
          "output_type": "stream",
          "name": "stdout",
          "text": [
            "enter a number from 1 to 20069\n",
            "69 is not a prime number\n"
          ]
        }
      ]
    },
    {
      "cell_type": "code",
      "source": [
        "# 5.  Create an iterator class in Python that generates the Fibonacci sequence up to a specified number of terms\n",
        "\n",
        "\n",
        "nterms = int(input(\"How many terms? \"))\n",
        "\n",
        "n1, n2 = 0, 1\n",
        "count = 0\n",
        "\n",
        "if nterms <= 0:\n",
        "   print(\"Please enter a positive integer\")\n",
        "\n",
        "elif nterms == 1:\n",
        "   print(\"Fibonacci sequence upto\",nterms,\":\")\n",
        "   print(n1)\n",
        "\n",
        "else:\n",
        "   print(\"Fibonacci sequence:\")\n",
        "   while count < nterms:\n",
        "       print(n1)\n",
        "       nth = n1 + n2\n",
        "       n1 = n2\n",
        "       n2 = nth\n",
        "       count += 1"
      ],
      "metadata": {
        "colab": {
          "base_uri": "https://localhost:8080/"
        },
        "id": "Aa6Qlp7xz9lT",
        "outputId": "ec8ff4ec-96d9-49d4-fb24-d030e6228c79"
      },
      "execution_count": 18,
      "outputs": [
        {
          "output_type": "stream",
          "name": "stdout",
          "text": [
            "How many terms? 10\n",
            "Fibonacci sequence:\n",
            "0\n",
            "1\n",
            "1\n",
            "2\n",
            "3\n",
            "5\n",
            "8\n",
            "13\n",
            "21\n",
            "34\n"
          ]
        }
      ]
    },
    {
      "cell_type": "code",
      "source": [
        "# 6. Write a generator function in Python that yields the powers of 2 up to a given exponent.\n",
        "\n",
        "def is_power_of_two(n):\n",
        "    if n <= 0:\n",
        "        return False\n",
        "    return (n & (n - 1)) == 0\n",
        "number = 57\n",
        "if is_power_of_two(number):\n",
        "    print(f\"{number} is a power of two.\")\n",
        "else:\n",
        "    print(f\"{number} is not a power of two.\")"
      ],
      "metadata": {
        "colab": {
          "base_uri": "https://localhost:8080/"
        },
        "id": "TBVQksUf0kyo",
        "outputId": "564362c4-4ccd-4b11-d100-453b6a373287"
      },
      "execution_count": 24,
      "outputs": [
        {
          "output_type": "stream",
          "name": "stdout",
          "text": [
            "57 is not a power of two.\n"
          ]
        }
      ]
    },
    {
      "cell_type": "code",
      "source": [
        "# 7. . Implement a generator function that reads a file line by line and yields each line as a string.\n",
        "\n",
        "def read_file_line_by_line(file_path):\n",
        "    with open(file_path, 'r') as file: # This line tries to open the file\n",
        "        for line in file:\n",
        "            yield line.strip()\n"
      ],
      "metadata": {
        "id": "vWqK4OLZ1rWL"
      },
      "execution_count": 32,
      "outputs": []
    },
    {
      "cell_type": "code",
      "source": [
        "# 8. Use a lambda function in Python to sort a list of tuples based on the second element of each tuple.\n",
        "\n",
        "list1 = [(\"apple\", 3),(\"banana\",5),(\"Mango\",1), (\"strawberry\",4)]\n",
        "print(list1)\n",
        "\n",
        "newList = sorted(list1, key = lambda x : x[1],reverse=True)\n",
        "print(\"Sorted List: \",newList)\n",
        "print(\"original List: \", list1)\n",
        "\n",
        "\n",
        "Selects = sorted(list1, key = lambda x : x[1])\n",
        "\n",
        "print(Selects)"
      ],
      "metadata": {
        "colab": {
          "base_uri": "https://localhost:8080/"
        },
        "id": "M5IMcWrO3yzT",
        "outputId": "d77b442c-b30c-4ed0-cd3d-fcc2d3c2551d"
      },
      "execution_count": 34,
      "outputs": [
        {
          "output_type": "stream",
          "name": "stdout",
          "text": [
            "[('apple', 3), ('banana', 5), ('Mango', 1), ('strawberry', 4)]\n",
            "Sorted List:  [('banana', 5), ('strawberry', 4), ('apple', 3), ('Mango', 1)]\n",
            "original List:  [('apple', 3), ('banana', 5), ('Mango', 1), ('strawberry', 4)]\n",
            "[('Mango', 1), ('apple', 3), ('strawberry', 4), ('banana', 5)]\n"
          ]
        }
      ]
    },
    {
      "cell_type": "code",
      "source": [
        "# 9. Write a Python program that uses `map()` to convert a list of temperatures from Celsius to Fahrenheit\n",
        "\n",
        "celsius = 42\n",
        "fahrenheit = (celsius * 1.8) + 32\n",
        "\n",
        "\n",
        "print('%.2f Celsius is equivalent to: %.2f Fahrenheit'\n",
        "      % (celsius, fahrenheit))"
      ],
      "metadata": {
        "colab": {
          "base_uri": "https://localhost:8080/"
        },
        "id": "n1uzXnQg4skG",
        "outputId": "f2313134-9188-4498-c838-d1e35180f128"
      },
      "execution_count": 35,
      "outputs": [
        {
          "output_type": "stream",
          "name": "stdout",
          "text": [
            "42.00 Celsius is equivalent to: 107.60 Fahrenheit\n"
          ]
        }
      ]
    },
    {
      "cell_type": "code",
      "source": [
        "# 10.  Create a Python program that uses `filter()` to remove all the vowels from a given string.\n",
        "\n",
        "string = \"hello world\"\n",
        "\n",
        "vowels = ['a', 'e', 'i', 'o', 'u', 'A', 'E', 'I', 'O', 'U']\n",
        "result = \"\"\n",
        "\n",
        "for i in range(len(string)):\n",
        "    if string[i] not in vowels:\n",
        "        result = result + string[i]\n",
        "\n",
        "print(\"\\nAfter removing Vowels: \", result)"
      ],
      "metadata": {
        "colab": {
          "base_uri": "https://localhost:8080/"
        },
        "id": "9Jk-bRAL5B2z",
        "outputId": "cd1ef77a-ca03-44b1-8fe0-ac65b8b7c5a4"
      },
      "execution_count": 36,
      "outputs": [
        {
          "output_type": "stream",
          "name": "stdout",
          "text": [
            "\n",
            "After removing Vowels:  hll wrld\n"
          ]
        }
      ]
    },
    {
      "cell_type": "code",
      "source": [
        "\n",
        "# 11.\n",
        "order =[[34587, 4, 40.95],\n",
        "[98762, 5, 56.80],\n",
        "[77226, 3, 32.95],\n",
        "[88112, 3, 24.99]]\n",
        "\n",
        "result = list(map(lambda order: (order[0], order[1] * order[2]+ (10 if order[1] * order[2]< 1000 else 0)), order))\n",
        "print(result)"
      ],
      "metadata": {
        "colab": {
          "base_uri": "https://localhost:8080/"
        },
        "id": "HB32fP665SMY",
        "outputId": "17ca967b-9c46-461d-df76-8f2ee4db1618"
      },
      "execution_count": 42,
      "outputs": [
        {
          "output_type": "stream",
          "name": "stdout",
          "text": [
            "[(34587, 173.8), (98762, 294.0), (77226, 108.85000000000001), (88112, 84.97)]\n"
          ]
        }
      ]
    }
  ]
}